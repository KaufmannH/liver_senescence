{
 "cells": [
  {
   "cell_type": "markdown",
   "metadata": {},
   "source": [
    "In this script the literature-based marker panel was establised and analyzed. "
   ]
  },
  {
   "cell_type": "code",
   "execution_count": 1,
   "metadata": {},
   "outputs": [
    {
     "name": "stdout",
     "output_type": "stream",
     "text": [
      "-----\n",
      "anndata     0.9.2\n",
      "scanpy      1.9.5\n",
      "-----\n",
      "PIL                 9.4.0\n",
      "asttokens           NA\n",
      "backcall            0.2.0\n",
      "beta_ufunc          NA\n",
      "binom_ufunc         NA\n",
      "bottleneck          1.3.5\n",
      "colorama            0.4.6\n",
      "comm                0.1.2\n",
      "cycler              0.10.0\n",
      "cython_runtime      NA\n",
      "dateutil            2.8.2\n",
      "debugpy             1.6.7\n",
      "decorator           5.1.1\n",
      "executing           0.8.3\n",
      "h5py                3.9.0\n",
      "hypergeom_ufunc     NA\n",
      "igraph              0.10.8\n",
      "invgauss_ufunc      NA\n",
      "ipykernel           6.25.2\n",
      "jedi                0.18.1\n",
      "joblib              1.2.0\n",
      "kiwisolver          1.4.4\n",
      "llvmlite            0.40.1\n",
      "louvain             0.8.1\n",
      "matplotlib          3.7.2\n",
      "mkl                 2.4.0\n",
      "mpl_toolkits        NA\n",
      "natsort             8.4.0\n",
      "nbinom_ufunc        NA\n",
      "ncf_ufunc           NA\n",
      "nct_ufunc           NA\n",
      "ncx2_ufunc          NA\n",
      "numba               0.57.1\n",
      "numexpr             2.8.4\n",
      "numpy               1.24.3\n",
      "packaging           23.1\n",
      "pandas              2.0.3\n",
      "parso               0.8.3\n",
      "patsy               0.5.3\n",
      "pickleshare         0.7.5\n",
      "pkg_resources       NA\n",
      "platformdirs        3.10.0\n",
      "plotly              5.9.0\n",
      "prompt_toolkit      3.0.36\n",
      "psutil              5.9.0\n",
      "pure_eval           0.2.2\n",
      "pydev_ipython       NA\n",
      "pydevconsole        NA\n",
      "pydevd              2.9.5\n",
      "pydevd_file_utils   NA\n",
      "pydevd_plugins      NA\n",
      "pydevd_tracing      NA\n",
      "pygments            2.15.1\n",
      "pyparsing           3.0.9\n",
      "pythoncom           NA\n",
      "pytz                2022.7\n",
      "pywintypes          NA\n",
      "scipy               1.11.1\n",
      "seaborn             0.12.2\n",
      "session_info        1.0.0\n",
      "setuptools          68.0.0\n",
      "six                 1.16.0\n",
      "skewnorm_ufunc      NA\n",
      "sklearn             1.3.0\n",
      "stack_data          0.2.0\n",
      "statsmodels         0.14.0\n",
      "texttable           1.7.0\n",
      "threadpoolctl       3.1.0\n",
      "tornado             6.3.2\n",
      "traitlets           5.7.1\n",
      "typing_extensions   NA\n",
      "wcwidth             0.2.5\n",
      "win32api            NA\n",
      "win32com            NA\n",
      "zmq                 25.1.0\n",
      "-----\n",
      "IPython             8.15.0\n",
      "jupyter_client      8.1.0\n",
      "jupyter_core        5.3.0\n",
      "-----\n",
      "Python 3.11.5 | packaged by Anaconda, Inc. | (main, Sep 11 2023, 13:26:23) [MSC v.1916 64 bit (AMD64)]\n",
      "Windows-10-10.0.22631-SP0\n",
      "-----\n",
      "Session information updated at 2024-03-02 17:27\n"
     ]
    }
   ],
   "source": [
    "import pandas as pd\n",
    "import matplotlib.pyplot as plt\n",
    "from matplotlib.pyplot import rc_context\n",
    "import numpy as np\n",
    "import seaborn as sns\n",
    "import scanpy as sc\n",
    "from itertools import product\n",
    "import anndata as ad\n",
    "sc.logging.print_versions()\n",
    "import plotly.graph_objects as go\n",
    "import scanpy.external.pp\n",
    "from matplotlib.colors import LinearSegmentedColormap"
   ]
  },
  {
   "cell_type": "code",
   "execution_count": 2,
   "metadata": {},
   "outputs": [],
   "source": [
    "# reading batch corrected adata object\n",
    "data_path = 'C:/Users/Helene/Documents/Master_Thesis/TabulaMurisSenis/Data/droplet_liver_angela.h5ad'\n",
    "adata = ad.read_h5ad(data_path)"
   ]
  },
  {
   "cell_type": "code",
   "execution_count": 3,
   "metadata": {},
   "outputs": [
    {
     "name": "stderr",
     "output_type": "stream",
     "text": [
      "c:\\Users\\Helene\\miniconda3\\envs\\single_cell_lab\\Lib\\site-packages\\anndata\\_core\\anndata.py:788: UserWarning: \n",
      "AnnData expects .var.index to contain strings, but got values like:\n",
      "    ['Rsrc2', 'Tmem121', 'Ube3b', 'Rnf167', 'Snx13']\n",
      "\n",
      "    Inferred to be: categorical\n",
      "\n",
      "  value_idx = self._prep_dim_index(value.index, attr)\n",
      "c:\\Users\\Helene\\miniconda3\\envs\\single_cell_lab\\Lib\\site-packages\\anndata\\_core\\anndata.py:887: UserWarning: \n",
      "AnnData expects .var.index to contain strings, but got values like:\n",
      "    ['Rsrc2', 'Tmem121', 'Ube3b', 'Rnf167', 'Snx13']\n",
      "\n",
      "    Inferred to be: categorical\n",
      "\n",
      "  names = self._prep_dim_index(names, \"var\")\n"
     ]
    }
   ],
   "source": [
    "# change the index of the adata object\n",
    "adata.var = adata.var.set_index('feature_name')\n",
    "tempAdata = adata.raw.to_adata()\n",
    "tempAdata.var_names = adata.var_names\n",
    "adata.raw = tempAdata\n",
    "\n",
    "# exclude first time point\n",
    "adata = adata[adata.obs['age'] != '1m']"
   ]
  },
  {
   "cell_type": "code",
   "execution_count": 4,
   "metadata": {},
   "outputs": [],
   "source": [
    "# marker lists\n",
    "marker_list = ['Il1a', 'Il1b','Il6', 'Cxcl15' , 'Il18','Ccl2', 'Tnf', 'Ifng', 'Tgfb1','Cxcl1', 'Cxcl12' ] # paper 217 (general)\n",
    "marker_list = ['Il1b', 'Il6', 'Il10', 'Tnf', 'Cxcl2', 'Ccl2'] # paper 90 (liver)\n",
    "marker_list = ['Il6', 'Csf2', 'Cxcl1', 'Igfbp2', 'Il1b'] # paper 58 (prostate epithelial cells)\n",
    "marker_list = ['Mki67','Bhlhe40', 'Cdkn2a', 'Cdkn1a', 'Trp53', 'Rad17', 'Atr', 'Atm', 'Mdc1', 'Tyro3' , 'Hira', 'Igf2', 'Igfbp3', 'Igfbp5', 'Igfbp7', 'Stc1', 'Gdf15', 'Icam1', 'Ptprj', 'Notch3', 'Lmnb1'] # paper 122, general markers\n",
    "\n",
    "all_marker_list = ['Mki67','Bhlhe40', 'Cdkn2a', 'Cdkn1a', 'Trp53', 'Rad17', 'Atr', 'Atm', 'Mdc1', 'Tyro3' , 'Hira', 'Igf2', 'Igfbp3', 'Igfbp5', 'Igfbp7', 'Stc1', 'Gdf15', 'Icam1', 'Ptprj', 'Notch3' ,'Il6', 'Csf2', 'Cxcl1', 'Igfbp2', 'Il1b', 'Il1b', 'Il6', 'Il10', 'Tnf', 'Cxcl2', 'Ccl2', 'Il1a', 'Il1b','Il6', 'Cxcl15' , 'Il18','Ccl2', 'Tnf', 'Ifng', 'Tgfb1','Cxcl1', 'Cxcl12', 'Lmnb1']\n",
    "all_marker_list1 = ['Mki67','Bhlhe40', 'Cdkn2a', 'Cdkn1a', 'Trp53', 'Rad17', 'Atr', 'Atm', 'Mdc1', 'Tyro3' , 'Hira', 'Igf2', 'Igfbp3', 'Igfbp5', 'Igfbp7', 'Stc1', 'Gdf15','Icam1',  ]\n",
    "all_marker_list2 = ['Ptprj', 'Notch3' ,'Il6','Csf2', 'Cxcl1', 'Igfbp2', 'Il1b', 'Il1b', 'Il6', 'Il10', 'Tnf', 'Cxcl2', 'Ccl2', 'Il1a', 'Il1b','Il6', 'Cxcl15' , 'Il18','Ccl2', 'Tnf', 'Ifng', 'Tgfb1','Cxcl1', 'Cxcl12', 'Lmnb1']\n",
    "\n",
    "all_marker_list1 = list(set(all_marker_list1))\n",
    "all_marker_list2 = list(set(all_marker_list2))"
   ]
  },
  {
   "cell_type": "code",
   "execution_count": 5,
   "metadata": {},
   "outputs": [
    {
     "name": "stderr",
     "output_type": "stream",
     "text": [
      "c:\\Users\\Helene\\miniconda3\\envs\\single_cell_lab\\Lib\\site-packages\\scanpy\\plotting\\_dotplot.py:748: UserWarning: No data for colormapping provided via 'c'. Parameters 'cmap', 'norm' will be ignored\n",
      "  dot_ax.scatter(x, y, **kwds)\n"
     ]
    },
    {
     "data": {
      "image/png": "[encoded data removed]",
      "text/plain": [
       "<Figure size 816x275 with 4 Axes>"
      ]
     },
     "metadata": {},
     "output_type": "display_data"
    }
   ],
   "source": [
    "#plotting\n",
    "colors = [(0, '#5C3C85'), (0.17, '#6E78A2'), (0.33, '#91B0CF'), (0.5, '#7ABEBC'),(0.66, '#7CB296'), (0.83, '#BDDC7A'),(1, '#DFE67E')]  # Format: (position, color)\n",
    "cmap_name = 'gradual_color_map'\n",
    "gradual_cmap = LinearSegmentedColormap.from_list(cmap_name, colors)\n",
    "\n",
    "scanpy.pl.dotplot(adata, all_marker_list1 , groupby= 'age', cmap = 'GnBu') "
   ]
  },
  {
   "cell_type": "markdown",
   "metadata": {},
   "source": [
    "Decrease the size of the marker panel"
   ]
  },
  {
   "cell_type": "code",
   "execution_count": 6,
   "metadata": {},
   "outputs": [
    {
     "name": "stdout",
     "output_type": "stream",
     "text": [
      "Tgfb1 2506\n",
      "Il18 1952\n",
      "Cdkn1a 1897\n",
      "Gdf15 2201\n",
      "Il1b 2217\n",
      "Overlapping cells:  1242\n"
     ]
    }
   ],
   "source": [
    "overlap = None \n",
    "subset = adata.copy()\n",
    "lap_list = ['Tgfb1', 'Il18', 'Trp53', 'Igfbp2','Cdkn1a', 'Bhlhe40', 'Gdf15', 'Il1b', 'Ptprj', 'Icam1'] #round 1\n",
    "lap_list = ['Tgfb1', 'Il18', 'Trp53', 'Cdkn1a','Bhlhe40', 'Gdf15', 'Il1b', 'Ptprj', 'Icam1'] # round 2\n",
    "lap_list = ['Tgfb1', 'Il18', 'Cdkn1a', 'Bhlhe40', 'Gdf15', 'Il1b', 'Ptprj', 'Icam1'] # round 3\n",
    "lap_list = ['Tgfb1', 'Il18', 'Cdkn1a', 'Gdf15', 'Il1b', 'Ptprj', 'Icam1'] # round 4\n",
    "lap_list = ['Tgfb1', 'Il18', 'Cdkn1a', 'Gdf15', 'Il1b', 'Ptprj'] # round 5\n",
    "lap_list = ['Tgfb1', 'Il18', 'Cdkn1a', 'Gdf15', 'Il1b' ] # round 6\n",
    "lap_list = ['Tgfb1', 'Il18', 'Cdkn1a', 'Gdf15', 'Il1b' ] # round 7\n",
    "\n",
    "\n",
    "for marker in lap_list:\n",
    "    marker_filter = subset[:, subset.var_names== marker]\n",
    "    marker_positive = marker_filter[marker_filter.X > 0]\n",
    "    print(marker, len(marker_positive))\n",
    "    if overlap is None:\n",
    "        overlap = marker_positive\n",
    "    else:\n",
    "        overlap = overlap[overlap.obs.index.isin(marker_positive.obs.index)]\n",
    "    \n",
    "print('Overlapping cells: ', len(overlap))"
   ]
  }
 ],
 "metadata": {
  "kernelspec": {
   "display_name": "single_cell_lab",
   "language": "python",
   "name": "python3"
  },
  "language_info": {
   "codemirror_mode": {
    "name": "ipython",
    "version": 3
   },
   "file_extension": ".py",
   "mimetype": "text/x-python",
   "name": "python",
   "nbconvert_exporter": "python",
   "pygments_lexer": "ipython3",
   "version": "3.11.5"
  }
 },
 "nbformat": 4,
 "nbformat_minor": 2
}
